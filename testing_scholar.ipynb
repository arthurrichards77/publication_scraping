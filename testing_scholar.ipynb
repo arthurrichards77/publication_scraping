{
 "cells": [
  {
   "cell_type": "code",
   "execution_count": 2,
   "metadata": {},
   "outputs": [],
   "source": [
    "import time \n",
    " \n",
    "import pandas as pd \n",
    "from selenium import webdriver \n",
    "from selenium.webdriver import Chrome \n",
    "from selenium.webdriver.chrome.service import Service \n",
    "from selenium.webdriver.common.by import By \n",
    "from webdriver_manager.chrome import ChromeDriverManager"
   ]
  },
  {
   "cell_type": "code",
   "execution_count": 3,
   "metadata": {},
   "outputs": [
    {
     "name": "stderr",
     "output_type": "stream",
     "text": [
      "C:\\Users\\aeagr\\AppData\\Local\\Temp\\ipykernel_1824\\210964506.py:3: DeprecationWarning: headless property is deprecated, instead use add_argument('--headless') or add_argument('--headless=new')\n",
      "  options.headless = True # it's more scalable to work in headless mode\n"
     ]
    }
   ],
   "source": [
    "# start by defining the options \n",
    "options = webdriver.ChromeOptions() \n",
    "options.headless = True # it's more scalable to work in headless mode \n",
    "# normally, selenium waits for all resources to download \n",
    "# we don't need it as the page also populated with the running javascript code. \n",
    "options.page_load_strategy = 'none' \n",
    "# this returns the path web driver downloaded \n",
    "chrome_path = ChromeDriverManager().install() \n",
    "chrome_service = Service(chrome_path) \n",
    "# pass the defined options and service objects to initialize the web driver \n",
    "driver = Chrome(options=options, service=chrome_service) \n",
    "driver.implicitly_wait(5)"
   ]
  },
  {
   "cell_type": "code",
   "execution_count": 4,
   "metadata": {},
   "outputs": [],
   "source": [
    "from bs4 import BeautifulSoup\n",
    "import pandas as pd"
   ]
  },
  {
   "cell_type": "code",
   "execution_count": 5,
   "metadata": {},
   "outputs": [],
   "source": [
    "url = \"https://scholar.google.com/citations?hl=en&user=pe9bhhAAAAAJ\" \n",
    " \n",
    "driver.get(url) \n",
    "time.sleep(10)"
   ]
  },
  {
   "cell_type": "code",
   "execution_count": 6,
   "metadata": {},
   "outputs": [],
   "source": [
    "soup = BeautifulSoup(driver.page_source, 'html.parser')"
   ]
  },
  {
   "cell_type": "code",
   "execution_count": 8,
   "metadata": {},
   "outputs": [],
   "source": [
    "paper_tags = soup.find_all('tr',class_='gsc_a_tr')"
   ]
  },
  {
   "cell_type": "code",
   "execution_count": 11,
   "metadata": {},
   "outputs": [
    {
     "data": {
      "text/plain": [
       "'Aircraft trajectory planning with collision avoidance using mixed integer linear programming'"
      ]
     },
     "execution_count": 11,
     "metadata": {},
     "output_type": "execute_result"
    }
   ],
   "source": [
    "paper_tags[0].a.text"
   ]
  },
  {
   "cell_type": "code",
   "execution_count": 13,
   "metadata": {},
   "outputs": [
    {
     "data": {
      "text/plain": [
       "'2002'"
      ]
     },
     "execution_count": 13,
     "metadata": {},
     "output_type": "execute_result"
    }
   ],
   "source": [
    "paper_tags[0].find(class_='gsc_a_y').text"
   ]
  },
  {
   "cell_type": "code",
   "execution_count": 16,
   "metadata": {},
   "outputs": [
    {
     "data": {
      "text/plain": [
       "'https://scholar.google.com/citations?view_op=view_citation&hl=en&user=pe9bhhAAAAAJ&citation_for_view=pe9bhhAAAAAJ:u5HHmVD_uO8C'"
      ]
     },
     "execution_count": 16,
     "metadata": {},
     "output_type": "execute_result"
    }
   ],
   "source": [
    "'https://scholar.google.com'+paper_tags[0].a.get('href')"
   ]
  },
  {
   "cell_type": "code",
   "execution_count": 9,
   "metadata": {},
   "outputs": [
    {
     "data": {
      "text/plain": [
       "'https://doi.org/10.1109/mra.2020.2979658'"
      ]
     },
     "execution_count": 9,
     "metadata": {},
     "output_type": "execute_result"
    }
   ],
   "source": [
    "paper_tags[13].find_all('a', class_=\"ng-binding\")[-1].get('href')"
   ]
  },
  {
   "cell_type": "code",
   "execution_count": 20,
   "metadata": {},
   "outputs": [
    {
     "data": {
      "text/plain": [
       "'Arthur Richards'"
      ]
     },
     "execution_count": 20,
     "metadata": {},
     "output_type": "execute_result"
    }
   ],
   "source": [
    "soup.find_all(id='gsc_prf_in')[0].text"
   ]
  },
  {
   "cell_type": "code",
   "execution_count": 11,
   "metadata": {},
   "outputs": [
    {
     "name": "stdout",
     "output_type": "stream",
     "text": [
      "Scraping https://orcid.org/0000-0001-5327-1523/print\n"
     ]
    }
   ],
   "source": [
    "from scrape_papers import scrape_scholar\n",
    "df = scrape_scholar('pe9bhhAAAAAJ', driver)"
   ]
  },
  {
   "cell_type": "code",
   "execution_count": 13,
   "metadata": {},
   "outputs": [
    {
     "data": {
      "text/html": [
       "<div>\n",
       "<style scoped>\n",
       "    .dataframe tbody tr th:only-of-type {\n",
       "        vertical-align: middle;\n",
       "    }\n",
       "\n",
       "    .dataframe tbody tr th {\n",
       "        vertical-align: top;\n",
       "    }\n",
       "\n",
       "    .dataframe thead th {\n",
       "        text-align: right;\n",
       "    }\n",
       "</style>\n",
       "<table border=\"1\" class=\"dataframe\">\n",
       "  <thead>\n",
       "    <tr style=\"text-align: right;\">\n",
       "      <th></th>\n",
       "      <th>title</th>\n",
       "      <th>orcid_year_str</th>\n",
       "      <th>doi_url</th>\n",
       "      <th>source_url</th>\n",
       "      <th>date</th>\n",
       "      <th>author</th>\n",
       "    </tr>\n",
       "  </thead>\n",
       "  <tbody>\n",
       "    <tr>\n",
       "      <th>0</th>\n",
       "      <td>One-Shot Domain-Adaptive Imitation Learning vi...</td>\n",
       "      <td>2022</td>\n",
       "      <td>https://doi.org/10.1109/tase.2022.3220728</td>\n",
       "      <td>https://orcid.org/0000-0001-5327-1523/print</td>\n",
       "      <td>2022-01-01</td>\n",
       "      <td>Nathan Lepora</td>\n",
       "    </tr>\n",
       "    <tr>\n",
       "      <th>1</th>\n",
       "      <td>Graph Neural Networks for Interpretable Tactil...</td>\n",
       "      <td>2022</td>\n",
       "      <td>https://www.worldcat.org/isbn/9781665498081</td>\n",
       "      <td>https://orcid.org/0000-0001-5327-1523/print</td>\n",
       "      <td>2022-01-01</td>\n",
       "      <td>Nathan Lepora</td>\n",
       "    </tr>\n",
       "    <tr>\n",
       "      <th>2</th>\n",
       "      <td>BRL/Pisa/IIT SoftHand</td>\n",
       "      <td>2022</td>\n",
       "      <td>https://doi.org/10.1109/lra.2022.3187876</td>\n",
       "      <td>https://orcid.org/0000-0001-5327-1523/print</td>\n",
       "      <td>2022-01-01</td>\n",
       "      <td>Nathan Lepora</td>\n",
       "    </tr>\n",
       "    <tr>\n",
       "      <th>3</th>\n",
       "      <td>Degenerate boundaries for multiple-alternative...</td>\n",
       "      <td>2022</td>\n",
       "      <td>https://doi.org/10.1038/s41467-022-32741-y</td>\n",
       "      <td>https://orcid.org/0000-0001-5327-1523/print</td>\n",
       "      <td>2022-01-01</td>\n",
       "      <td>Nathan Lepora</td>\n",
       "    </tr>\n",
       "    <tr>\n",
       "      <th>4</th>\n",
       "      <td>Tactile Gym 2.0: Sim-to-Real Deep Reinforcemen...</td>\n",
       "      <td>2022</td>\n",
       "      <td>https://doi.org/10.1109/lra.2022.3195195</td>\n",
       "      <td>https://orcid.org/0000-0001-5327-1523/print</td>\n",
       "      <td>2022-01-01</td>\n",
       "      <td>Nathan Lepora</td>\n",
       "    </tr>\n",
       "    <tr>\n",
       "      <th>...</th>\n",
       "      <td>...</td>\n",
       "      <td>...</td>\n",
       "      <td>...</td>\n",
       "      <td>...</td>\n",
       "      <td>...</td>\n",
       "      <td>...</td>\n",
       "    </tr>\n",
       "    <tr>\n",
       "      <th>116</th>\n",
       "      <td>Vacuum geometry</td>\n",
       "      <td>1999</td>\n",
       "      <td></td>\n",
       "      <td>https://orcid.org/0000-0001-5327-1523/print</td>\n",
       "      <td>1999-01-01</td>\n",
       "      <td>Nathan Lepora</td>\n",
       "    </tr>\n",
       "    <tr>\n",
       "      <th>117</th>\n",
       "      <td>Embedded vortices</td>\n",
       "      <td>1998</td>\n",
       "      <td>https://doi.org/10.1103/physrevd.58.125027</td>\n",
       "      <td>https://orcid.org/0000-0001-5327-1523/print</td>\n",
       "      <td>1998-01-01</td>\n",
       "      <td>Nathan Lepora</td>\n",
       "    </tr>\n",
       "    <tr>\n",
       "      <th>118</th>\n",
       "      <td>Examples of embedded defects (in particle phys...</td>\n",
       "      <td>1998</td>\n",
       "      <td>https://doi.org/10.1103/physrevd.58.125028</td>\n",
       "      <td>https://orcid.org/0000-0001-5327-1523/print</td>\n",
       "      <td>1998-01-01</td>\n",
       "      <td>Nathan Lepora</td>\n",
       "    </tr>\n",
       "    <tr>\n",
       "      <th>119</th>\n",
       "      <td>Examples of embedded defects (in particle phys...</td>\n",
       "      <td>1998</td>\n",
       "      <td></td>\n",
       "      <td>https://orcid.org/0000-0001-5327-1523/print</td>\n",
       "      <td>1998-01-01</td>\n",
       "      <td>Nathan Lepora</td>\n",
       "    </tr>\n",
       "    <tr>\n",
       "      <th>120</th>\n",
       "      <td>Embedded defects and symmetry breaking in flip...</td>\n",
       "      <td>1995</td>\n",
       "      <td>https://doi.org/10.1103/physrevd.52.7265</td>\n",
       "      <td>https://orcid.org/0000-0001-5327-1523/print</td>\n",
       "      <td>1995-01-01</td>\n",
       "      <td>Nathan Lepora</td>\n",
       "    </tr>\n",
       "  </tbody>\n",
       "</table>\n",
       "<p>121 rows × 6 columns</p>\n",
       "</div>"
      ],
      "text/plain": [
       "                                                 title orcid_year_str   \n",
       "0    One-Shot Domain-Adaptive Imitation Learning vi...           2022  \\\n",
       "1    Graph Neural Networks for Interpretable Tactil...           2022   \n",
       "2                                BRL/Pisa/IIT SoftHand           2022   \n",
       "3    Degenerate boundaries for multiple-alternative...           2022   \n",
       "4    Tactile Gym 2.0: Sim-to-Real Deep Reinforcemen...           2022   \n",
       "..                                                 ...            ...   \n",
       "116                                    Vacuum geometry           1999   \n",
       "117                                  Embedded vortices           1998   \n",
       "118  Examples of embedded defects (in particle phys...           1998   \n",
       "119  Examples of embedded defects (in particle phys...           1998   \n",
       "120  Embedded defects and symmetry breaking in flip...           1995   \n",
       "\n",
       "                                         doi_url   \n",
       "0      https://doi.org/10.1109/tase.2022.3220728  \\\n",
       "1    https://www.worldcat.org/isbn/9781665498081   \n",
       "2       https://doi.org/10.1109/lra.2022.3187876   \n",
       "3     https://doi.org/10.1038/s41467-022-32741-y   \n",
       "4       https://doi.org/10.1109/lra.2022.3195195   \n",
       "..                                           ...   \n",
       "116                                                \n",
       "117   https://doi.org/10.1103/physrevd.58.125027   \n",
       "118   https://doi.org/10.1103/physrevd.58.125028   \n",
       "119                                                \n",
       "120     https://doi.org/10.1103/physrevd.52.7265   \n",
       "\n",
       "                                      source_url       date         author  \n",
       "0    https://orcid.org/0000-0001-5327-1523/print 2022-01-01  Nathan Lepora  \n",
       "1    https://orcid.org/0000-0001-5327-1523/print 2022-01-01  Nathan Lepora  \n",
       "2    https://orcid.org/0000-0001-5327-1523/print 2022-01-01  Nathan Lepora  \n",
       "3    https://orcid.org/0000-0001-5327-1523/print 2022-01-01  Nathan Lepora  \n",
       "4    https://orcid.org/0000-0001-5327-1523/print 2022-01-01  Nathan Lepora  \n",
       "..                                           ...        ...            ...  \n",
       "116  https://orcid.org/0000-0001-5327-1523/print 1999-01-01  Nathan Lepora  \n",
       "117  https://orcid.org/0000-0001-5327-1523/print 1998-01-01  Nathan Lepora  \n",
       "118  https://orcid.org/0000-0001-5327-1523/print 1998-01-01  Nathan Lepora  \n",
       "119  https://orcid.org/0000-0001-5327-1523/print 1998-01-01  Nathan Lepora  \n",
       "120  https://orcid.org/0000-0001-5327-1523/print 1995-01-01  Nathan Lepora  \n",
       "\n",
       "[121 rows x 6 columns]"
      ]
     },
     "execution_count": 13,
     "metadata": {},
     "output_type": "execute_result"
    }
   ],
   "source": [
    "df"
   ]
  }
 ],
 "metadata": {
  "kernelspec": {
   "display_name": "Python 3",
   "language": "python",
   "name": "python3"
  },
  "language_info": {
   "codemirror_mode": {
    "name": "ipython",
    "version": 3
   },
   "file_extension": ".py",
   "mimetype": "text/x-python",
   "name": "python",
   "nbconvert_exporter": "python",
   "pygments_lexer": "ipython3",
   "version": "3.10.11"
  },
  "orig_nbformat": 4
 },
 "nbformat": 4,
 "nbformat_minor": 2
}
