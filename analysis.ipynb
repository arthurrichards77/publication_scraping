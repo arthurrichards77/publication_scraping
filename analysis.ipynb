{
 "cells": [
  {
   "cell_type": "markdown",
   "metadata": {},
   "source": [
    "# Analysis\n",
    "\n",
    "Stage 4: generate plots and summary statistics"
   ]
  },
  {
   "cell_type": "code",
   "execution_count": 1,
   "metadata": {},
   "outputs": [],
   "source": [
    "import pandas as pd"
   ]
  },
  {
   "cell_type": "markdown",
   "metadata": {},
   "source": [
    "## Recent trends\n",
    "\n",
    "Look at last five years"
   ]
  },
  {
   "cell_type": "code",
   "execution_count": 2,
   "metadata": {},
   "outputs": [],
   "source": [
    "brl_always = pd.read_excel('results/all_brl.xlsx')"
   ]
  },
  {
   "cell_type": "code",
   "execution_count": 3,
   "metadata": {},
   "outputs": [
    {
     "data": {
      "text/html": [
       "<div>\n",
       "<style scoped>\n",
       "    .dataframe tbody tr th:only-of-type {\n",
       "        vertical-align: middle;\n",
       "    }\n",
       "\n",
       "    .dataframe tbody tr th {\n",
       "        vertical-align: top;\n",
       "    }\n",
       "\n",
       "    .dataframe thead th {\n",
       "        text-align: right;\n",
       "    }\n",
       "</style>\n",
       "<table border=\"1\" class=\"dataframe\">\n",
       "  <thead>\n",
       "    <tr style=\"text-align: right;\">\n",
       "      <th></th>\n",
       "      <th>Unnamed: 0</th>\n",
       "      <th>Unnamed: 1</th>\n",
       "      <th>title_uob</th>\n",
       "      <th>uob_detail_url</th>\n",
       "      <th>uob_date_str</th>\n",
       "      <th>date_uob</th>\n",
       "      <th>uob_author_list</th>\n",
       "      <th>uob_source_url_list</th>\n",
       "      <th>year</th>\n",
       "      <th>title_lower</th>\n",
       "      <th>...</th>\n",
       "      <th>uwe_detail_link</th>\n",
       "      <th>date_uwe</th>\n",
       "      <th>uwe_author_list</th>\n",
       "      <th>uwe_source_url_list</th>\n",
       "      <th>title</th>\n",
       "      <th>scholar_year_str</th>\n",
       "      <th>scholar_author_list</th>\n",
       "      <th>scholar_source_url_list</th>\n",
       "      <th>scholar_detail_url_list</th>\n",
       "      <th>all_author_list</th>\n",
       "    </tr>\n",
       "  </thead>\n",
       "  <tbody>\n",
       "    <tr>\n",
       "      <th>0</th>\n",
       "      <td>0</td>\n",
       "      <td>1281</td>\n",
       "      <td>NaN</td>\n",
       "      <td>NaN</td>\n",
       "      <td>NaN</td>\n",
       "      <td>NaT</td>\n",
       "      <td>NaN</td>\n",
       "      <td>NaN</td>\n",
       "      <td>2023.0</td>\n",
       "      <td>3d machine vision and deep learning for enabli...</td>\n",
       "      <td>...</td>\n",
       "      <td>https://uwe-repository.worktribe.com/output/10...</td>\n",
       "      <td>2023-01-01</td>\n",
       "      <td>['Melvyn Smith', 'Lyndon Smith']</td>\n",
       "      <td>['https://uwe-repository.worktribe.com/person/...</td>\n",
       "      <td>NaN</td>\n",
       "      <td>NaN</td>\n",
       "      <td>NaN</td>\n",
       "      <td>NaN</td>\n",
       "      <td>NaN</td>\n",
       "      <td>[Melvyn Smith, Lyndon Smith]</td>\n",
       "    </tr>\n",
       "    <tr>\n",
       "      <th>1</th>\n",
       "      <td>0</td>\n",
       "      <td>1380</td>\n",
       "      <td>NaN</td>\n",
       "      <td>NaN</td>\n",
       "      <td>NaN</td>\n",
       "      <td>NaT</td>\n",
       "      <td>NaN</td>\n",
       "      <td>NaN</td>\n",
       "      <td>2023.0</td>\n",
       "      <td>a comprehensive review of scab disease detecti...</td>\n",
       "      <td>...</td>\n",
       "      <td>https://uwe-repository.worktribe.com/output/10...</td>\n",
       "      <td>2023-01-01</td>\n",
       "      <td>['Charlie Yang']</td>\n",
       "      <td>['https://uwe-repository.worktribe.com/person/...</td>\n",
       "      <td>NaN</td>\n",
       "      <td>NaN</td>\n",
       "      <td>NaN</td>\n",
       "      <td>NaN</td>\n",
       "      <td>NaN</td>\n",
       "      <td>[Charlie Yang]</td>\n",
       "    </tr>\n",
       "    <tr>\n",
       "      <th>2</th>\n",
       "      <td>0</td>\n",
       "      <td>0</td>\n",
       "      <td>A configuration-optimisation method for passiv...</td>\n",
       "      <td>https://research-information.bris.ac.uk/en/pub...</td>\n",
       "      <td>15 Nov 2023</td>\n",
       "      <td>2023-11-15</td>\n",
       "      <td>['Dr Andrew T Conn']</td>\n",
       "      <td>['https://research-information.bris.ac.uk/en/p...</td>\n",
       "      <td>2023.0</td>\n",
       "      <td>a configuration-optimisation method for passiv...</td>\n",
       "      <td>...</td>\n",
       "      <td>NaN</td>\n",
       "      <td>NaT</td>\n",
       "      <td>NaN</td>\n",
       "      <td>NaN</td>\n",
       "      <td>NaN</td>\n",
       "      <td>NaN</td>\n",
       "      <td>NaN</td>\n",
       "      <td>NaN</td>\n",
       "      <td>NaN</td>\n",
       "      <td>[Dr Andrew T Conn]</td>\n",
       "    </tr>\n",
       "    <tr>\n",
       "      <th>3</th>\n",
       "      <td>0</td>\n",
       "      <td>1373</td>\n",
       "      <td>NaN</td>\n",
       "      <td>NaN</td>\n",
       "      <td>NaN</td>\n",
       "      <td>NaT</td>\n",
       "      <td>NaN</td>\n",
       "      <td>NaN</td>\n",
       "      <td>2023.0</td>\n",
       "      <td>a constrained framework based on iblf for robo...</td>\n",
       "      <td>...</td>\n",
       "      <td>https://uwe-repository.worktribe.com/output/10...</td>\n",
       "      <td>2023-01-01</td>\n",
       "      <td>['Charlie Yang']</td>\n",
       "      <td>['https://uwe-repository.worktribe.com/person/...</td>\n",
       "      <td>NaN</td>\n",
       "      <td>NaN</td>\n",
       "      <td>NaN</td>\n",
       "      <td>NaN</td>\n",
       "      <td>NaN</td>\n",
       "      <td>[Charlie Yang]</td>\n",
       "    </tr>\n",
       "    <tr>\n",
       "      <th>4</th>\n",
       "      <td>0</td>\n",
       "      <td>1594</td>\n",
       "      <td>NaN</td>\n",
       "      <td>NaN</td>\n",
       "      <td>NaN</td>\n",
       "      <td>NaT</td>\n",
       "      <td>NaN</td>\n",
       "      <td>NaN</td>\n",
       "      <td>2023.0</td>\n",
       "      <td>a fabric-based soft hand exoskeleton for assis...</td>\n",
       "      <td>...</td>\n",
       "      <td>NaN</td>\n",
       "      <td>NaT</td>\n",
       "      <td>NaN</td>\n",
       "      <td>NaN</td>\n",
       "      <td>A fabric-based soft hand exoskeleton for assis...</td>\n",
       "      <td>2023.0</td>\n",
       "      <td>['Carlos A. Cifuentes', 'Marcela Munera']</td>\n",
       "      <td>['https://scholar.google.com/citations?hl=en&amp;u...</td>\n",
       "      <td>['https://scholar.google.com/citations?view_op...</td>\n",
       "      <td>[Carlos A. Cifuentes, Marcela Munera]</td>\n",
       "    </tr>\n",
       "    <tr>\n",
       "      <th>...</th>\n",
       "      <td>...</td>\n",
       "      <td>...</td>\n",
       "      <td>...</td>\n",
       "      <td>...</td>\n",
       "      <td>...</td>\n",
       "      <td>...</td>\n",
       "      <td>...</td>\n",
       "      <td>...</td>\n",
       "      <td>...</td>\n",
       "      <td>...</td>\n",
       "      <td>...</td>\n",
       "      <td>...</td>\n",
       "      <td>...</td>\n",
       "      <td>...</td>\n",
       "      <td>...</td>\n",
       "      <td>...</td>\n",
       "      <td>...</td>\n",
       "      <td>...</td>\n",
       "      <td>...</td>\n",
       "      <td>...</td>\n",
       "      <td>...</td>\n",
       "    </tr>\n",
       "    <tr>\n",
       "      <th>1673</th>\n",
       "      <td>0</td>\n",
       "      <td>1645</td>\n",
       "      <td>NaN</td>\n",
       "      <td>NaN</td>\n",
       "      <td>NaN</td>\n",
       "      <td>NaT</td>\n",
       "      <td>NaN</td>\n",
       "      <td>NaN</td>\n",
       "      <td>NaN</td>\n",
       "      <td>fatigue test on optical fiber angle sensors ba...</td>\n",
       "      <td>...</td>\n",
       "      <td>NaN</td>\n",
       "      <td>NaT</td>\n",
       "      <td>NaN</td>\n",
       "      <td>NaN</td>\n",
       "      <td>Fatigue Test on Optical Fiber Angle Sensors Ba...</td>\n",
       "      <td>NaN</td>\n",
       "      <td>['Carlos A. Cifuentes']</td>\n",
       "      <td>['https://scholar.google.com/citations?hl=en&amp;u...</td>\n",
       "      <td>['https://scholar.google.com/citations?view_op...</td>\n",
       "      <td>[Carlos A. Cifuentes]</td>\n",
       "    </tr>\n",
       "    <tr>\n",
       "      <th>1674</th>\n",
       "      <td>0</td>\n",
       "      <td>1647</td>\n",
       "      <td>NaN</td>\n",
       "      <td>NaN</td>\n",
       "      <td>NaN</td>\n",
       "      <td>NaT</td>\n",
       "      <td>NaN</td>\n",
       "      <td>NaN</td>\n",
       "      <td>NaN</td>\n",
       "      <td>integration of a social robot in physical reha...</td>\n",
       "      <td>...</td>\n",
       "      <td>NaN</td>\n",
       "      <td>NaT</td>\n",
       "      <td>NaN</td>\n",
       "      <td>NaN</td>\n",
       "      <td>Integration of a Social Robot in Physical Reha...</td>\n",
       "      <td>NaN</td>\n",
       "      <td>['Carlos A. Cifuentes', 'Marcela Munera']</td>\n",
       "      <td>['https://scholar.google.com/citations?hl=en&amp;u...</td>\n",
       "      <td>['https://scholar.google.com/citations?view_op...</td>\n",
       "      <td>[Carlos A. Cifuentes, Marcela Munera]</td>\n",
       "    </tr>\n",
       "    <tr>\n",
       "      <th>1675</th>\n",
       "      <td>0</td>\n",
       "      <td>1648</td>\n",
       "      <td>NaN</td>\n",
       "      <td>NaN</td>\n",
       "      <td>NaN</td>\n",
       "      <td>NaT</td>\n",
       "      <td>NaN</td>\n",
       "      <td>NaN</td>\n",
       "      <td>NaN</td>\n",
       "      <td>preliminary biomechanical evaluation of differ...</td>\n",
       "      <td>...</td>\n",
       "      <td>NaN</td>\n",
       "      <td>NaT</td>\n",
       "      <td>NaN</td>\n",
       "      <td>NaN</td>\n",
       "      <td>Preliminary Biomechanical Evaluation of Differ...</td>\n",
       "      <td>NaN</td>\n",
       "      <td>['Carlos A. Cifuentes', 'Marcela Munera']</td>\n",
       "      <td>['https://scholar.google.com/citations?hl=en&amp;u...</td>\n",
       "      <td>['https://scholar.google.com/citations?view_op...</td>\n",
       "      <td>[Carlos A. Cifuentes, Marcela Munera]</td>\n",
       "    </tr>\n",
       "    <tr>\n",
       "      <th>1676</th>\n",
       "      <td>0</td>\n",
       "      <td>1649</td>\n",
       "      <td>NaN</td>\n",
       "      <td>NaN</td>\n",
       "      <td>NaN</td>\n",
       "      <td>NaT</td>\n",
       "      <td>NaN</td>\n",
       "      <td>NaN</td>\n",
       "      <td>NaN</td>\n",
       "      <td>robot for coaching during gait training with l...</td>\n",
       "      <td>...</td>\n",
       "      <td>NaN</td>\n",
       "      <td>NaT</td>\n",
       "      <td>NaN</td>\n",
       "      <td>NaN</td>\n",
       "      <td>Robot for Coaching during Gait Training with L...</td>\n",
       "      <td>NaN</td>\n",
       "      <td>['Carlos A. Cifuentes', 'Marcela Munera']</td>\n",
       "      <td>['https://scholar.google.com/citations?hl=en&amp;u...</td>\n",
       "      <td>['https://scholar.google.com/citations?view_op...</td>\n",
       "      <td>[Carlos A. Cifuentes, Marcela Munera]</td>\n",
       "    </tr>\n",
       "    <tr>\n",
       "      <th>1677</th>\n",
       "      <td>0</td>\n",
       "      <td>1650</td>\n",
       "      <td>NaN</td>\n",
       "      <td>NaN</td>\n",
       "      <td>NaN</td>\n",
       "      <td>NaT</td>\n",
       "      <td>NaN</td>\n",
       "      <td>NaN</td>\n",
       "      <td>NaN</td>\n",
       "      <td>special issue on systems-related topics in rob...</td>\n",
       "      <td>...</td>\n",
       "      <td>NaN</td>\n",
       "      <td>NaT</td>\n",
       "      <td>NaN</td>\n",
       "      <td>NaN</td>\n",
       "      <td>SPECIAL ISSUE ON SYSTEMS-RELATED TOPICS IN ROB...</td>\n",
       "      <td>NaN</td>\n",
       "      <td>['Carlos A. Cifuentes']</td>\n",
       "      <td>['https://scholar.google.com/citations?hl=en&amp;u...</td>\n",
       "      <td>['https://scholar.google.com/citations?view_op...</td>\n",
       "      <td>[Carlos A. Cifuentes]</td>\n",
       "    </tr>\n",
       "  </tbody>\n",
       "</table>\n",
       "<p>1678 rows × 22 columns</p>\n",
       "</div>"
      ],
      "text/plain": [
       "      Unnamed: 0  Unnamed: 1   \n",
       "0              0        1281  \\\n",
       "1              0        1380   \n",
       "2              0           0   \n",
       "3              0        1373   \n",
       "4              0        1594   \n",
       "...          ...         ...   \n",
       "1673           0        1645   \n",
       "1674           0        1647   \n",
       "1675           0        1648   \n",
       "1676           0        1649   \n",
       "1677           0        1650   \n",
       "\n",
       "                                              title_uob   \n",
       "0                                                   NaN  \\\n",
       "1                                                   NaN   \n",
       "2     A configuration-optimisation method for passiv...   \n",
       "3                                                   NaN   \n",
       "4                                                   NaN   \n",
       "...                                                 ...   \n",
       "1673                                                NaN   \n",
       "1674                                                NaN   \n",
       "1675                                                NaN   \n",
       "1676                                                NaN   \n",
       "1677                                                NaN   \n",
       "\n",
       "                                         uob_detail_url uob_date_str   \n",
       "0                                                   NaN          NaN  \\\n",
       "1                                                   NaN          NaN   \n",
       "2     https://research-information.bris.ac.uk/en/pub...  15 Nov 2023   \n",
       "3                                                   NaN          NaN   \n",
       "4                                                   NaN          NaN   \n",
       "...                                                 ...          ...   \n",
       "1673                                                NaN          NaN   \n",
       "1674                                                NaN          NaN   \n",
       "1675                                                NaN          NaN   \n",
       "1676                                                NaN          NaN   \n",
       "1677                                                NaN          NaN   \n",
       "\n",
       "       date_uob       uob_author_list   \n",
       "0           NaT                   NaN  \\\n",
       "1           NaT                   NaN   \n",
       "2    2023-11-15  ['Dr Andrew T Conn']   \n",
       "3           NaT                   NaN   \n",
       "4           NaT                   NaN   \n",
       "...         ...                   ...   \n",
       "1673        NaT                   NaN   \n",
       "1674        NaT                   NaN   \n",
       "1675        NaT                   NaN   \n",
       "1676        NaT                   NaN   \n",
       "1677        NaT                   NaN   \n",
       "\n",
       "                                    uob_source_url_list    year   \n",
       "0                                                   NaN  2023.0  \\\n",
       "1                                                   NaN  2023.0   \n",
       "2     ['https://research-information.bris.ac.uk/en/p...  2023.0   \n",
       "3                                                   NaN  2023.0   \n",
       "4                                                   NaN  2023.0   \n",
       "...                                                 ...     ...   \n",
       "1673                                                NaN     NaN   \n",
       "1674                                                NaN     NaN   \n",
       "1675                                                NaN     NaN   \n",
       "1676                                                NaN     NaN   \n",
       "1677                                                NaN     NaN   \n",
       "\n",
       "                                            title_lower  ...   \n",
       "0     3d machine vision and deep learning for enabli...  ...  \\\n",
       "1     a comprehensive review of scab disease detecti...  ...   \n",
       "2     a configuration-optimisation method for passiv...  ...   \n",
       "3     a constrained framework based on iblf for robo...  ...   \n",
       "4     a fabric-based soft hand exoskeleton for assis...  ...   \n",
       "...                                                 ...  ...   \n",
       "1673  fatigue test on optical fiber angle sensors ba...  ...   \n",
       "1674  integration of a social robot in physical reha...  ...   \n",
       "1675  preliminary biomechanical evaluation of differ...  ...   \n",
       "1676  robot for coaching during gait training with l...  ...   \n",
       "1677  special issue on systems-related topics in rob...  ...   \n",
       "\n",
       "                                        uwe_detail_link   date_uwe   \n",
       "0     https://uwe-repository.worktribe.com/output/10... 2023-01-01  \\\n",
       "1     https://uwe-repository.worktribe.com/output/10... 2023-01-01   \n",
       "2                                                   NaN        NaT   \n",
       "3     https://uwe-repository.worktribe.com/output/10... 2023-01-01   \n",
       "4                                                   NaN        NaT   \n",
       "...                                                 ...        ...   \n",
       "1673                                                NaN        NaT   \n",
       "1674                                                NaN        NaT   \n",
       "1675                                                NaN        NaT   \n",
       "1676                                                NaN        NaT   \n",
       "1677                                                NaN        NaT   \n",
       "\n",
       "                       uwe_author_list   \n",
       "0     ['Melvyn Smith', 'Lyndon Smith']  \\\n",
       "1                     ['Charlie Yang']   \n",
       "2                                  NaN   \n",
       "3                     ['Charlie Yang']   \n",
       "4                                  NaN   \n",
       "...                                ...   \n",
       "1673                               NaN   \n",
       "1674                               NaN   \n",
       "1675                               NaN   \n",
       "1676                               NaN   \n",
       "1677                               NaN   \n",
       "\n",
       "                                    uwe_source_url_list   \n",
       "0     ['https://uwe-repository.worktribe.com/person/...  \\\n",
       "1     ['https://uwe-repository.worktribe.com/person/...   \n",
       "2                                                   NaN   \n",
       "3     ['https://uwe-repository.worktribe.com/person/...   \n",
       "4                                                   NaN   \n",
       "...                                                 ...   \n",
       "1673                                                NaN   \n",
       "1674                                                NaN   \n",
       "1675                                                NaN   \n",
       "1676                                                NaN   \n",
       "1677                                                NaN   \n",
       "\n",
       "                                                  title scholar_year_str   \n",
       "0                                                   NaN              NaN  \\\n",
       "1                                                   NaN              NaN   \n",
       "2                                                   NaN              NaN   \n",
       "3                                                   NaN              NaN   \n",
       "4     A fabric-based soft hand exoskeleton for assis...           2023.0   \n",
       "...                                                 ...              ...   \n",
       "1673  Fatigue Test on Optical Fiber Angle Sensors Ba...              NaN   \n",
       "1674  Integration of a Social Robot in Physical Reha...              NaN   \n",
       "1675  Preliminary Biomechanical Evaluation of Differ...              NaN   \n",
       "1676  Robot for Coaching during Gait Training with L...              NaN   \n",
       "1677  SPECIAL ISSUE ON SYSTEMS-RELATED TOPICS IN ROB...              NaN   \n",
       "\n",
       "                            scholar_author_list   \n",
       "0                                           NaN  \\\n",
       "1                                           NaN   \n",
       "2                                           NaN   \n",
       "3                                           NaN   \n",
       "4     ['Carlos A. Cifuentes', 'Marcela Munera']   \n",
       "...                                         ...   \n",
       "1673                    ['Carlos A. Cifuentes']   \n",
       "1674  ['Carlos A. Cifuentes', 'Marcela Munera']   \n",
       "1675  ['Carlos A. Cifuentes', 'Marcela Munera']   \n",
       "1676  ['Carlos A. Cifuentes', 'Marcela Munera']   \n",
       "1677                    ['Carlos A. Cifuentes']   \n",
       "\n",
       "                                scholar_source_url_list   \n",
       "0                                                   NaN  \\\n",
       "1                                                   NaN   \n",
       "2                                                   NaN   \n",
       "3                                                   NaN   \n",
       "4     ['https://scholar.google.com/citations?hl=en&u...   \n",
       "...                                                 ...   \n",
       "1673  ['https://scholar.google.com/citations?hl=en&u...   \n",
       "1674  ['https://scholar.google.com/citations?hl=en&u...   \n",
       "1675  ['https://scholar.google.com/citations?hl=en&u...   \n",
       "1676  ['https://scholar.google.com/citations?hl=en&u...   \n",
       "1677  ['https://scholar.google.com/citations?hl=en&u...   \n",
       "\n",
       "                                scholar_detail_url_list   \n",
       "0                                                   NaN  \\\n",
       "1                                                   NaN   \n",
       "2                                                   NaN   \n",
       "3                                                   NaN   \n",
       "4     ['https://scholar.google.com/citations?view_op...   \n",
       "...                                                 ...   \n",
       "1673  ['https://scholar.google.com/citations?view_op...   \n",
       "1674  ['https://scholar.google.com/citations?view_op...   \n",
       "1675  ['https://scholar.google.com/citations?view_op...   \n",
       "1676  ['https://scholar.google.com/citations?view_op...   \n",
       "1677  ['https://scholar.google.com/citations?view_op...   \n",
       "\n",
       "                            all_author_list  \n",
       "0              [Melvyn Smith, Lyndon Smith]  \n",
       "1                            [Charlie Yang]  \n",
       "2                        [Dr Andrew T Conn]  \n",
       "3                            [Charlie Yang]  \n",
       "4     [Carlos A. Cifuentes, Marcela Munera]  \n",
       "...                                     ...  \n",
       "1673                  [Carlos A. Cifuentes]  \n",
       "1674  [Carlos A. Cifuentes, Marcela Munera]  \n",
       "1675  [Carlos A. Cifuentes, Marcela Munera]  \n",
       "1676  [Carlos A. Cifuentes, Marcela Munera]  \n",
       "1677                  [Carlos A. Cifuentes]  \n",
       "\n",
       "[1678 rows x 22 columns]"
      ]
     },
     "execution_count": 3,
     "metadata": {},
     "output_type": "execute_result"
    }
   ],
   "source": [
    "def merge_author_list_func(this_row):\n",
    "    alist = []\n",
    "    if type(this_row.uob_author_list)==str:\n",
    "        alist = eval(this_row.uob_author_list)\n",
    "    if type(this_row.uwe_author_list)==str:\n",
    "        alist = alist + eval(this_row.uwe_author_list)\n",
    "    if type(this_row.scholar_author_list)==str:\n",
    "        alist = alist + eval(this_row.scholar_author_list)\n",
    "    return alist\n",
    "\n",
    "brl_always['all_author_list'] = brl_always.apply(merge_author_list_func, axis=1)\n",
    "brl_always\n"
   ]
  },
  {
   "cell_type": "code",
   "execution_count": 4,
   "metadata": {},
   "outputs": [
    {
     "data": {
      "image/png": "[encoded data removed]",
      "text/plain": [
       "<Figure size 640x480 with 1 Axes>"
      ]
     },
     "metadata": {},
     "output_type": "display_data"
    }
   ],
   "source": [
    "hist = brl_always.hist(column=['year'],bins=range(1990,2030))"
   ]
  },
  {
   "cell_type": "markdown",
   "metadata": {},
   "source": [
    "## Focus on 2021 to 2023"
   ]
  },
  {
   "cell_type": "code",
   "execution_count": 5,
   "metadata": {},
   "outputs": [
    {
     "data": {
      "text/plain": [
       "[174, 138, 129, 147, 99]"
      ]
     },
     "execution_count": 5,
     "metadata": {},
     "output_type": "execute_result"
    }
   ],
   "source": [
    "years = [2019, 2020, 2021, 2022, 2023]\n",
    "num_papers = [sum(brl_always['year']==y) for y in years]\n",
    "num_papers"
   ]
  },
  {
   "cell_type": "code",
   "execution_count": 47,
   "metadata": {},
   "outputs": [],
   "source": [
    "brl_yellow = (253/255, 183/255, 20/255)\n",
    "brl_blue = (35/255, 86/255, 167/255)"
   ]
  },
  {
   "cell_type": "code",
   "execution_count": 48,
   "metadata": {},
   "outputs": [
    {
     "data": {
      "image/png": "[encoded data removed]",
      "text/plain": [
       "<Figure size 640x480 with 1 Axes>"
      ]
     },
     "metadata": {},
     "output_type": "display_data"
    }
   ],
   "source": [
    "import matplotlib.pyplot as plt\n",
    "colors = [brl_blue for y in years]\n",
    "colors[-1] = brl_yellow\n",
    "plt.bar(years,num_papers,color=colors)\n",
    "plt.savefig('results/papers.png',dpi=300)"
   ]
  },
  {
   "cell_type": "code",
   "execution_count": 7,
   "metadata": {},
   "outputs": [
    {
     "data": {
      "text/plain": [
       "687"
      ]
     },
     "execution_count": 7,
     "metadata": {},
     "output_type": "execute_result"
    }
   ],
   "source": [
    "brl_since_2018 = brl_always[brl_always['year']>2018]\n",
    "len(brl_since_2018)"
   ]
  },
  {
   "cell_type": "code",
   "execution_count": 8,
   "metadata": {},
   "outputs": [
    {
     "data": {
      "text/plain": [
       "687"
      ]
     },
     "execution_count": 8,
     "metadata": {},
     "output_type": "execute_result"
    }
   ],
   "source": [
    "sum(num_papers)"
   ]
  },
  {
   "cell_type": "code",
   "execution_count": 9,
   "metadata": {},
   "outputs": [
    {
     "data": {
      "text/plain": [
       "{'Carlos A. Cifuentes',\n",
       " 'Charlie Yang',\n",
       " 'Chris Harper',\n",
       " 'Chris Melhuish',\n",
       " 'Dr Andrew T Conn',\n",
       " 'Dr Antonia Tzemanaki',\n",
       " 'Dr Dandan Zhang',\n",
       " 'Dr Edmund R Hunt',\n",
       " 'Dr Efi Psomopoulou',\n",
       " 'Dr Helmut Hauser',\n",
       " 'Dr Hemma Philamore',\n",
       " 'Dr Hermes Gadelha',\n",
       " 'Dr Matthew Studley',\n",
       " \"Dr Paul J O'Dowd\",\n",
       " 'Dr Shane P Windsor',\n",
       " 'Lyndon Smith',\n",
       " 'Manuel Giuliani',\n",
       " 'Marcela Munera',\n",
       " 'Mark Hansen',\n",
       " 'Martin Pearson',\n",
       " 'Melvyn Smith',\n",
       " 'Mr Ben Ward-Cherrier',\n",
       " 'Mr Martin S Garrad',\n",
       " 'Paul Bremner',\n",
       " 'Professor Arthur G Richards',\n",
       " 'Professor Jonathan M Rossiter',\n",
       " 'Professor Nathan F Lepora',\n",
       " 'Professor Sabine Hauert',\n",
       " 'Professor Tom S Richardson',\n",
       " 'Professor Walterio W Mayol-Cuevas',\n",
       " 'Tony Pipe'}"
      ]
     },
     "execution_count": 9,
     "metadata": {},
     "output_type": "execute_result"
    }
   ],
   "source": [
    "authors = set([])\n",
    "for a in brl_since_2018['uwe_author_list']:\n",
    "    if type(a)==str:\n",
    "        #print(eval(a))\n",
    "        authors = authors.union(set(eval(a)))\n",
    "for a in brl_since_2018['uob_author_list']:\n",
    "    if type(a)==str:\n",
    "        #print(eval(a))\n",
    "        authors = authors.union(set(eval(a)))\n",
    "for a in brl_since_2018['scholar_author_list']:\n",
    "    if type(a)==str:\n",
    "        #print(eval(a))\n",
    "        authors = authors.union(set(eval(a)))\n",
    "authors"
   ]
  },
  {
   "cell_type": "code",
   "execution_count": 10,
   "metadata": {},
   "outputs": [
    {
     "data": {
      "text/plain": [
       "31"
      ]
     },
     "execution_count": 10,
     "metadata": {},
     "output_type": "execute_result"
    }
   ],
   "source": [
    "total_num_authors = len(authors)\n",
    "total_num_authors"
   ]
  },
  {
   "cell_type": "markdown",
   "metadata": {},
   "source": [
    "## Collaboration Graph"
   ]
  },
  {
   "cell_type": "code",
   "execution_count": 18,
   "metadata": {},
   "outputs": [],
   "source": [
    "import networkx as nx\n",
    "G = nx.Graph()\n",
    "G.add_nodes_from(authors)"
   ]
  },
  {
   "cell_type": "code",
   "execution_count": 19,
   "metadata": {},
   "outputs": [],
   "source": [
    "for a in brl_since_2018['all_author_list']:\n",
    "    if len(a)>1:\n",
    "        #print(a)\n",
    "        for i in range(len(a)):\n",
    "            for j in range(i):\n",
    "                #print(i,j)\n",
    "                #print(a[i],a[j])\n",
    "                G.add_edge(a[i],a[j])"
   ]
  },
  {
   "cell_type": "code",
   "execution_count": 20,
   "metadata": {},
   "outputs": [
    {
     "name": "stdout",
     "output_type": "stream",
     "text": [
      "Arthur\n",
      "Richards\n"
     ]
    }
   ],
   "source": [
    "import re\n",
    "def fix_label(lab):\n",
    "    new_lab = lab.replace('Professor','')\n",
    "    new_lab = new_lab.replace('Dr','')\n",
    "    new_lab = new_lab.replace('Mr','')\n",
    "    new_lab = re.sub(' [A-Z] ', ' ', new_lab)\n",
    "    new_lab = re.sub(' [A-Z]\\. ', ' ', new_lab)\n",
    "    new_lab = new_lab.replace(' ','\\n')\n",
    "    return(new_lab.strip())\n",
    "print(fix_label('Professor Arthur G Richards'))"
   ]
  },
  {
   "cell_type": "code",
   "execution_count": 44,
   "metadata": {},
   "outputs": [
    {
     "name": "stderr",
     "output_type": "stream",
     "text": [
      "C:\\Users\\aeagr\\AppData\\Local\\Packages\\PythonSoftwareFoundation.Python.3.10_qbz5n2kfra8p0\\LocalCache\\local-packages\\Python310\\site-packages\\networkx\\drawing\\nx_pylab.py:433: UserWarning: *c* argument looks like a single numeric RGB or RGBA sequence, which should be avoided as value-mapping will have precedence in case its length matches with *x* & *y*.  Please use the *color* keyword-argument or provide a 2D array with a single row if you intend to specify the same RGB or RGBA value for all points.\n",
      "  node_collection = ax.scatter(\n"
     ]
    },
    {
     "data": {
      "image/png": "[encoded data removed]",
      "text/plain": [
       "<Figure size 640x480 with 1 Axes>"
      ]
     },
     "metadata": {},
     "output_type": "display_data"
    }
   ],
   "source": [
    "#pos = nx.random_layout(G)\n",
    "pos = nx.circular_layout(G)\n",
    "#pos = nx.planar_layout(G)\n",
    "#pos = nx.bipartite_layout(G)\n",
    "pos = nx.kamada_kawai_layout(G, weight=None)\n",
    "pos = nx.spring_layout(G,k=1,pos = pos, weight=None)\n",
    "nx.draw(G, pos, node_color=brl_yellow)\n",
    "\n",
    "label_dict = {n: fix_label(n) for n in G}\n",
    "labels = nx.draw_networkx_labels(G, pos, font_size=6, labels=label_dict, font_color='k')\n",
    "plt.savefig('results/collab.png', dpi=300)"
   ]
  },
  {
   "cell_type": "code",
   "execution_count": 22,
   "metadata": {},
   "outputs": [
    {
     "data": {
      "text/plain": [
       "NodeView(('Paul Bremner', 'Lyndon Smith', 'Manuel Giuliani', 'Martin Pearson', 'Dr Hermes Gadelha', 'Marcela Munera', 'Professor Walterio W Mayol-Cuevas', 'Professor Nathan F Lepora', 'Professor Arthur G Richards', 'Mark Hansen', 'Dr Andrew T Conn', 'Dr Helmut Hauser', 'Mr Martin S Garrad', 'Chris Melhuish', 'Professor Jonathan M Rossiter', 'Professor Sabine Hauert', 'Dr Efi Psomopoulou', \"Dr Paul J O'Dowd\", 'Carlos A. Cifuentes', 'Dr Antonia Tzemanaki', 'Dr Edmund R Hunt', 'Dr Matthew Studley', 'Melvyn Smith', 'Dr Hemma Philamore', 'Charlie Yang', 'Dr Dandan Zhang', 'Mr Ben Ward-Cherrier', 'Chris Harper', 'Dr Shane P Windsor', 'Tony Pipe', 'Professor Tom S Richardson'))"
      ]
     },
     "execution_count": 22,
     "metadata": {},
     "output_type": "execute_result"
    }
   ],
   "source": [
    "G.nodes"
   ]
  },
  {
   "cell_type": "code",
   "execution_count": 23,
   "metadata": {},
   "outputs": [
    {
     "data": {
      "text/plain": [
       "EdgeView([('Paul Bremner', 'Manuel Giuliani'), ('Lyndon Smith', 'Melvyn Smith'), ('Lyndon Smith', 'Mark Hansen'), ('Manuel Giuliani', 'Tony Pipe'), ('Manuel Giuliani', 'Professor Sabine Hauert'), ('Martin Pearson', 'Tony Pipe'), ('Dr Hermes Gadelha', 'Dr Hemma Philamore'), ('Dr Hermes Gadelha', 'Professor Jonathan M Rossiter'), ('Dr Hermes Gadelha', 'Dr Andrew T Conn'), ('Marcela Munera', 'Carlos A. Cifuentes'), ('Professor Walterio W Mayol-Cuevas', 'Professor Tom S Richardson'), ('Professor Nathan F Lepora', 'Dr Efi Psomopoulou'), ('Professor Nathan F Lepora', 'Dr Dandan Zhang'), ('Professor Nathan F Lepora', 'Professor Sabine Hauert'), ('Professor Nathan F Lepora', 'Charlie Yang'), ('Professor Nathan F Lepora', 'Mr Ben Ward-Cherrier'), ('Professor Arthur G Richards', 'Professor Sabine Hauert'), ('Professor Arthur G Richards', 'Professor Tom S Richardson'), ('Professor Arthur G Richards', 'Tony Pipe'), ('Professor Arthur G Richards', 'Dr Shane P Windsor'), ('Mark Hansen', 'Dr Matthew Studley'), ('Mark Hansen', 'Professor Tom S Richardson'), ('Mark Hansen', 'Melvyn Smith'), ('Dr Andrew T Conn', 'Dr Antonia Tzemanaki'), ('Dr Andrew T Conn', 'Professor Jonathan M Rossiter'), ('Dr Andrew T Conn', 'Dr Helmut Hauser'), ('Dr Andrew T Conn', 'Mr Martin S Garrad'), ('Dr Andrew T Conn', 'Professor Sabine Hauert'), ('Dr Andrew T Conn', 'Professor Tom S Richardson'), ('Dr Helmut Hauser', 'Professor Sabine Hauert'), ('Dr Helmut Hauser', 'Professor Jonathan M Rossiter'), ('Dr Helmut Hauser', 'Mr Martin S Garrad'), ('Mr Martin S Garrad', 'Professor Jonathan M Rossiter'), ('Mr Martin S Garrad', 'Dr Hemma Philamore'), ('Chris Melhuish', 'Charlie Yang'), ('Chris Melhuish', 'Dr Efi Psomopoulou'), ('Chris Melhuish', 'Dr Antonia Tzemanaki'), ('Professor Jonathan M Rossiter', 'Dr Hemma Philamore'), ('Professor Jonathan M Rossiter', 'Dr Shane P Windsor'), ('Professor Jonathan M Rossiter', 'Dr Matthew Studley'), ('Professor Sabine Hauert', 'Dr Shane P Windsor'), ('Professor Sabine Hauert', 'Dr Edmund R Hunt'), ('Professor Sabine Hauert', 'Dr Dandan Zhang'), ('Professor Sabine Hauert', \"Dr Paul J O'Dowd\"), ('Professor Sabine Hauert', 'Professor Tom S Richardson'), ('Professor Sabine Hauert', 'Dr Matthew Studley'), ('Dr Efi Psomopoulou', 'Dr Antonia Tzemanaki'), (\"Dr Paul J O'Dowd\", 'Dr Edmund R Hunt'), ('Dr Matthew Studley', 'Tony Pipe'), ('Charlie Yang', 'Dr Dandan Zhang'), ('Dr Shane P Windsor', 'Professor Tom S Richardson')])"
      ]
     },
     "execution_count": 23,
     "metadata": {},
     "output_type": "execute_result"
    }
   ],
   "source": [
    "G.edges"
   ]
  }
 ],
 "metadata": {
  "kernelspec": {
   "display_name": "Python 3",
   "language": "python",
   "name": "python3"
  },
  "language_info": {
   "codemirror_mode": {
    "name": "ipython",
    "version": 3
   },
   "file_extension": ".py",
   "mimetype": "text/x-python",
   "name": "python",
   "nbconvert_exporter": "python",
   "pygments_lexer": "ipython3",
   "version": "3.10.11"
  },
  "orig_nbformat": 4
 },
 "nbformat": 4,
 "nbformat_minor": 2
}
