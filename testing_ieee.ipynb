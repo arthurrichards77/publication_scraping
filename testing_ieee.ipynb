{
 "cells": [
  {
   "cell_type": "code",
   "execution_count": 1,
   "metadata": {},
   "outputs": [],
   "source": [
    "import time \n",
    " \n",
    "import pandas as pd \n",
    "from selenium import webdriver \n",
    "from selenium.webdriver import Chrome \n",
    "from selenium.webdriver.chrome.service import Service \n",
    "from selenium.webdriver.common.by import By \n",
    "from webdriver_manager.chrome import ChromeDriverManager"
   ]
  },
  {
   "cell_type": "code",
   "execution_count": 2,
   "metadata": {},
   "outputs": [
    {
     "name": "stderr",
     "output_type": "stream",
     "text": [
      "C:\\Users\\aeagr\\AppData\\Local\\Temp\\ipykernel_19316\\210964506.py:3: DeprecationWarning: headless property is deprecated, instead use add_argument('--headless') or add_argument('--headless=new')\n",
      "  options.headless = True # it's more scalable to work in headless mode\n"
     ]
    }
   ],
   "source": [
    "# start by defining the options \n",
    "options = webdriver.ChromeOptions() \n",
    "options.headless = True # it's more scalable to work in headless mode \n",
    "# normally, selenium waits for all resources to download \n",
    "# we don't need it as the page also populated with the running javascript code. \n",
    "options.page_load_strategy = 'none' \n",
    "# this returns the path web driver downloaded \n",
    "chrome_path = ChromeDriverManager().install() \n",
    "chrome_service = Service(chrome_path) \n",
    "# pass the defined options and service objects to initialize the web driver \n",
    "driver = Chrome(options=options, service=chrome_service) \n",
    "driver.implicitly_wait(5)"
   ]
  },
  {
   "cell_type": "code",
   "execution_count": 8,
   "metadata": {},
   "outputs": [
    {
     "name": "stdout",
     "output_type": "stream",
     "text": [
      "https://ieeexplore.ieee.org/xpl/conhome/9560720/proceeding?isnumber=9560666&sortType=vol-only-seq&refinementName=Affiliation&refinements=Affiliation:University%20of%20Bristol&refinements=Affiliation:Bristol%20Robotics%20Laboratory,%20University%20of%20Bristol,%20Bristol,%20UK&refinements=Affiliation:Bristol%20Robotics%20Laboratory,%20University%20of%20Bristol,%20UK&refinements=Affiliation:Department%20of%20Computer%20Science,%20University%20of%20Bristol,%20Bristol,%20U.K.&refinements=Affiliation:Department%20of%20Engineering%20Mathematics%20and%20Bristol%20Robotics%20Laboratory,%20University%20of%20Bristol,%20Bristol,%20UK&refinements=Affiliation:Department%20of%20Engineering%20Mathematics,%20Bristol%20Robotics%20Laboratory,%20University%20of%20Bristol,%20Bristol,%20U.K.&refinements=Affiliation:Department%20of%20Engineering%20Mathematics,%20Bristol%20Robotics%20Laboratory,%20University%20of%20Bristol,%20U.K.\n"
     ]
    }
   ],
   "source": [
    "url = 'https://ieeexplore.ieee.org/xpl/conhome/9560720/proceeding?isnumber=9560666&sortType=vol-only-seq&refinementName=Affiliation&refinements=Affiliation:University%20of%20Bristol&refinements=Affiliation:Bristol%20Robotics%20Laboratory,%20University%20of%20Bristol,%20Bristol,%20UK&refinements=Affiliation:Bristol%20Robotics%20Laboratory,%20University%20of%20Bristol,%20UK&refinements=Affiliation:Department%20of%20Computer%20Science,%20University%20of%20Bristol,%20Bristol,%20U.K.&refinements=Affiliation:Department%20of%20Engineering%20Mathematics%20and%20Bristol%20Robotics%20Laboratory,%20University%20of%20Bristol,%20Bristol,%20UK&refinements=Affiliation:Department%20of%20Engineering%20Mathematics,%20Bristol%20Robotics%20Laboratory,%20University%20of%20Bristol,%20Bristol,%20U.K.&refinements=Affiliation:Department%20of%20Engineering%20Mathematics,%20Bristol%20Robotics%20Laboratory,%20University%20of%20Bristol,%20U.K.'\n",
    "print(url)\n",
    "driver.get(url) \n",
    "time.sleep(10)\n",
    "soup = BeautifulSoup(driver.page_source, 'html.parser')"
   ]
  },
  {
   "cell_type": "code",
   "execution_count": 12,
   "metadata": {},
   "outputs": [],
   "source": [
    "paper_tags = soup.find_all(class_='result-item')"
   ]
  },
  {
   "cell_type": "code",
   "execution_count": 18,
   "metadata": {},
   "outputs": [
    {
     "data": {
      "text/plain": [
       "'Global Aerial Localisation Using Image and Map Embeddings'"
      ]
     },
     "execution_count": 18,
     "metadata": {},
     "output_type": "execute_result"
    }
   ],
   "source": [
    "paper_tags[0].find('h2').text"
   ]
  },
  {
   "cell_type": "code",
   "execution_count": 27,
   "metadata": {},
   "outputs": [
    {
     "data": {
      "text/plain": [
       "'2021'"
      ]
     },
     "execution_count": 27,
     "metadata": {},
     "output_type": "execute_result"
    }
   ],
   "source": [
    "desc = paper_tags[0].find_all(class_='description')[0].text\n",
    "ix = desc.find('Year: ')\n",
    "year_str = desc[ix+6:ix+10]\n",
    "year_str"
   ]
  },
  {
   "cell_type": "code",
   "execution_count": 31,
   "metadata": {},
   "outputs": [
    {
     "data": {
      "text/plain": [
       "['Noe Samano', 'Mengjie Zhou', 'Andrew Calway']"
      ]
     },
     "execution_count": 31,
     "metadata": {},
     "output_type": "execute_result"
    }
   ],
   "source": [
    "paper_tags[0].find(class_='author').text.split(';')"
   ]
  },
  {
   "cell_type": "code",
   "execution_count": 34,
   "metadata": {},
   "outputs": [
    {
     "data": {
      "text/plain": [
       "'/document/9562005/'"
      ]
     },
     "execution_count": 34,
     "metadata": {},
     "output_type": "execute_result"
    }
   ],
   "source": [
    "paper_tags[0].find('a').get('href')"
   ]
  },
  {
   "cell_type": "code",
   "execution_count": 1,
   "metadata": {},
   "outputs": [
    {
     "name": "stdout",
     "output_type": "stream",
     "text": [
      "Scraping https://ieeexplore.ieee.org/xpl/conhome/9560720/proceeding?isnumber=9560666&sortType=vol-only-seq&refinementName=Affiliation&refinements=Affiliation:University%20of%20Bristol&refinements=Affiliation:Bristol%20Robotics%20Laboratory,%20University%20of%20Bristol,%20Bristol,%20UK&refinements=Affiliation:Bristol%20Robotics%20Laboratory,%20University%20of%20Bristol,%20UK&refinements=Affiliation:Department%20of%20Computer%20Science,%20University%20of%20Bristol,%20Bristol,%20U.K.&refinements=Affiliation:Department%20of%20Engineering%20Mathematics%20and%20Bristol%20Robotics%20Laboratory,%20University%20of%20Bristol,%20Bristol,%20UK&refinements=Affiliation:Department%20of%20Engineering%20Mathematics,%20Bristol%20Robotics%20Laboratory,%20University%20of%20Bristol,%20Bristol,%20U.K.&refinements=Affiliation:Department%20of%20Engineering%20Mathematics,%20Bristol%20Robotics%20Laboratory,%20University%20of%20Bristol,%20U.K.\n"
     ]
    },
    {
     "data": {
      "text/html": [
       "<div>\n",
       "<style scoped>\n",
       "    .dataframe tbody tr th:only-of-type {\n",
       "        vertical-align: middle;\n",
       "    }\n",
       "\n",
       "    .dataframe tbody tr th {\n",
       "        vertical-align: top;\n",
       "    }\n",
       "\n",
       "    .dataframe thead th {\n",
       "        text-align: right;\n",
       "    }\n",
       "</style>\n",
       "<table border=\"1\" class=\"dataframe\">\n",
       "  <thead>\n",
       "    <tr style=\"text-align: right;\">\n",
       "      <th></th>\n",
       "      <th>title</th>\n",
       "      <th>ieee_url</th>\n",
       "      <th>author_list</th>\n",
       "      <th>ieee_year_str</th>\n",
       "      <th>source_url</th>\n",
       "      <th>date</th>\n",
       "    </tr>\n",
       "  </thead>\n",
       "  <tbody>\n",
       "    <tr>\n",
       "      <th>0</th>\n",
       "      <td>Global Aerial Localisation Using Image and Map...</td>\n",
       "      <td>https://ieeexplore.ieee.org//document/9562005/</td>\n",
       "      <td>[Noe Samano, Mengjie Zhou, Andrew Calway]</td>\n",
       "      <td>2021</td>\n",
       "      <td>https://ieeexplore.ieee.org/xpl/conhome/956072...</td>\n",
       "      <td>2021-01-01</td>\n",
       "    </tr>\n",
       "    <tr>\n",
       "      <th>1</th>\n",
       "      <td>Weighted Node Mapping and Localisation on a Pi...</td>\n",
       "      <td>https://ieeexplore.ieee.org//document/9561524/</td>\n",
       "      <td>[Hector Castillo-Elizalde, Yanan Liu, Laurie B...</td>\n",
       "      <td>2021</td>\n",
       "      <td>https://ieeexplore.ieee.org/xpl/conhome/956072...</td>\n",
       "      <td>2021-01-01</td>\n",
       "    </tr>\n",
       "    <tr>\n",
       "      <th>2</th>\n",
       "      <td>Uncertainty-aware deep learning for robot touc...</td>\n",
       "      <td>https://ieeexplore.ieee.org//document/9562077/</td>\n",
       "      <td>[Manuel Floriano Vázquez, Nathan F. Lepora]</td>\n",
       "      <td>2021</td>\n",
       "      <td>https://ieeexplore.ieee.org/xpl/conhome/956072...</td>\n",
       "      <td>2021-01-01</td>\n",
       "    </tr>\n",
       "    <tr>\n",
       "      <th>3</th>\n",
       "      <td>Towards integrated tactile sensorimotor contro...</td>\n",
       "      <td>https://ieeexplore.ieee.org//document/9561350/</td>\n",
       "      <td>[Nathan F. Lepora, Chris Ford, Andrew Stinchco...</td>\n",
       "      <td>2021</td>\n",
       "      <td>https://ieeexplore.ieee.org/xpl/conhome/956072...</td>\n",
       "      <td>2021-01-01</td>\n",
       "    </tr>\n",
       "    <tr>\n",
       "      <th>4</th>\n",
       "      <td>Friction-driven Three-foot Robot Inspired by S...</td>\n",
       "      <td>https://ieeexplore.ieee.org//document/9561125/</td>\n",
       "      <td>[Tianqi Yue, Hermes Bloomfield-Gadêlha, Jonath...</td>\n",
       "      <td>2021</td>\n",
       "      <td>https://ieeexplore.ieee.org/xpl/conhome/956072...</td>\n",
       "      <td>2021-01-01</td>\n",
       "    </tr>\n",
       "    <tr>\n",
       "      <th>5</th>\n",
       "      <td>Trajectory Optimisation in Learned Multimodal ...</td>\n",
       "      <td>https://ieeexplore.ieee.org//document/9561362/</td>\n",
       "      <td>[Aidan Scannell, Carl Henrik Ek, Arthur Richards]</td>\n",
       "      <td>2021</td>\n",
       "      <td>https://ieeexplore.ieee.org/xpl/conhome/956072...</td>\n",
       "      <td>2021-01-01</td>\n",
       "    </tr>\n",
       "    <tr>\n",
       "      <th>6</th>\n",
       "      <td>Asynchronous Reliability-Aware Multi-UAV Cover...</td>\n",
       "      <td>https://ieeexplore.ieee.org//document/9560770/</td>\n",
       "      <td>[Mickey Li, Arthur Richards, Mahesh Sooriyaban...</td>\n",
       "      <td>2021</td>\n",
       "      <td>https://ieeexplore.ieee.org/xpl/conhome/956072...</td>\n",
       "      <td>2021-01-01</td>\n",
       "    </tr>\n",
       "  </tbody>\n",
       "</table>\n",
       "</div>"
      ],
      "text/plain": [
       "                                               title   \n",
       "0  Global Aerial Localisation Using Image and Map...  \\\n",
       "1  Weighted Node Mapping and Localisation on a Pi...   \n",
       "2  Uncertainty-aware deep learning for robot touc...   \n",
       "3  Towards integrated tactile sensorimotor contro...   \n",
       "4  Friction-driven Three-foot Robot Inspired by S...   \n",
       "5  Trajectory Optimisation in Learned Multimodal ...   \n",
       "6  Asynchronous Reliability-Aware Multi-UAV Cover...   \n",
       "\n",
       "                                         ieee_url   \n",
       "0  https://ieeexplore.ieee.org//document/9562005/  \\\n",
       "1  https://ieeexplore.ieee.org//document/9561524/   \n",
       "2  https://ieeexplore.ieee.org//document/9562077/   \n",
       "3  https://ieeexplore.ieee.org//document/9561350/   \n",
       "4  https://ieeexplore.ieee.org//document/9561125/   \n",
       "5  https://ieeexplore.ieee.org//document/9561362/   \n",
       "6  https://ieeexplore.ieee.org//document/9560770/   \n",
       "\n",
       "                                         author_list ieee_year_str   \n",
       "0          [Noe Samano, Mengjie Zhou, Andrew Calway]          2021  \\\n",
       "1  [Hector Castillo-Elizalde, Yanan Liu, Laurie B...          2021   \n",
       "2        [Manuel Floriano Vázquez, Nathan F. Lepora]          2021   \n",
       "3  [Nathan F. Lepora, Chris Ford, Andrew Stinchco...          2021   \n",
       "4  [Tianqi Yue, Hermes Bloomfield-Gadêlha, Jonath...          2021   \n",
       "5  [Aidan Scannell, Carl Henrik Ek, Arthur Richards]          2021   \n",
       "6  [Mickey Li, Arthur Richards, Mahesh Sooriyaban...          2021   \n",
       "\n",
       "                                          source_url       date  \n",
       "0  https://ieeexplore.ieee.org/xpl/conhome/956072... 2021-01-01  \n",
       "1  https://ieeexplore.ieee.org/xpl/conhome/956072... 2021-01-01  \n",
       "2  https://ieeexplore.ieee.org/xpl/conhome/956072... 2021-01-01  \n",
       "3  https://ieeexplore.ieee.org/xpl/conhome/956072... 2021-01-01  \n",
       "4  https://ieeexplore.ieee.org/xpl/conhome/956072... 2021-01-01  \n",
       "5  https://ieeexplore.ieee.org/xpl/conhome/956072... 2021-01-01  \n",
       "6  https://ieeexplore.ieee.org/xpl/conhome/956072... 2021-01-01  "
      ]
     },
     "execution_count": 1,
     "metadata": {},
     "output_type": "execute_result"
    }
   ],
   "source": [
    "from scrape_papers import scrape_ieee, start_driver\n",
    "driver = start_driver()\n",
    "url = 'https://ieeexplore.ieee.org/xpl/conhome/9560720/proceeding?isnumber=9560666&sortType=vol-only-seq&refinementName=Affiliation&refinements=Affiliation:University%20of%20Bristol&refinements=Affiliation:Bristol%20Robotics%20Laboratory,%20University%20of%20Bristol,%20Bristol,%20UK&refinements=Affiliation:Bristol%20Robotics%20Laboratory,%20University%20of%20Bristol,%20UK&refinements=Affiliation:Department%20of%20Computer%20Science,%20University%20of%20Bristol,%20Bristol,%20U.K.&refinements=Affiliation:Department%20of%20Engineering%20Mathematics%20and%20Bristol%20Robotics%20Laboratory,%20University%20of%20Bristol,%20Bristol,%20UK&refinements=Affiliation:Department%20of%20Engineering%20Mathematics,%20Bristol%20Robotics%20Laboratory,%20University%20of%20Bristol,%20Bristol,%20U.K.&refinements=Affiliation:Department%20of%20Engineering%20Mathematics,%20Bristol%20Robotics%20Laboratory,%20University%20of%20Bristol,%20U.K.'\n",
    "df = scrape_ieee(url,driver)\n",
    "df"
   ]
  }
 ],
 "metadata": {
  "kernelspec": {
   "display_name": "Python 3",
   "language": "python",
   "name": "python3"
  },
  "language_info": {
   "codemirror_mode": {
    "name": "ipython",
    "version": 3
   },
   "file_extension": ".py",
   "mimetype": "text/x-python",
   "name": "python",
   "nbconvert_exporter": "python",
   "pygments_lexer": "ipython3",
   "version": "3.10.11"
  },
  "orig_nbformat": 4
 },
 "nbformat": 4,
 "nbformat_minor": 2
}
